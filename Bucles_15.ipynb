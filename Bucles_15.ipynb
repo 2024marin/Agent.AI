{
 "cells": [
  {
   "cell_type": "code",
   "execution_count": 4,
   "id": "869028d6-b2d5-468a-9645-c85a6b66c165",
   "metadata": {},
   "outputs": [
    {
     "name": "stdout",
     "output_type": "stream",
     "text": [
      "X es igual que 5\n",
      "afuera\n"
     ]
    }
   ],
   "source": [
    "x = 5\n",
    "if x > 5:\n",
    "    print(\"X es mayor que 5\")\n",
    "elif x == 5:\n",
    "    print(\"X es igual que 5\")\n",
    "else:\n",
    "    print(\"X es menor que 5\")\n",
    "print(\"afuera\")"
   ]
  },
  {
   "cell_type": "code",
   "execution_count": 3,
   "id": "da25f56c-10c2-4bb7-8205-d2b1c1d7fad2",
   "metadata": {},
   "outputs": [
    {
     "name": "stdout",
     "output_type": "stream",
     "text": [
      "X es mayor que 10 O Y es Mayor que 25\n"
     ]
    }
   ],
   "source": [
    "x = 15\n",
    "y = 20\n",
    "\n",
    "if x>10 and y>25:\n",
    "    print(\"X es mayor que 10 y Y es mayor que 15\")\n",
    "\n",
    "if x>10 or y>25:\n",
    "    print(\"X es mayor que 10 O Y es Mayor que 25\")\n",
    "\n",
    "if not x>10:\n",
    "    print(\"X no es mayor que 10\")"
   ]
  },
  {
   "cell_type": "code",
   "execution_count": 1,
   "id": "a925efa0-7d55-4701-b80f-4da4c01f282f",
   "metadata": {},
   "outputs": [
    {
     "name": "stdout",
     "output_type": "stream",
     "text": [
      "No tienes acceso ya que eres miembro pero menor a 15 años\n"
     ]
    }
   ],
   "source": [
    "is_member = True\n",
    "age = 11\n",
    "\n",
    "if is_member:\n",
    "    if age>=15:\n",
    "        print(\"Tienes acceso ya que eres miembro y mayor o igual a 15 años\")\n",
    "    else:\n",
    "        print(\"No tienes acceso ya que eres miembro pero menor a 15 años\")\n",
    "else:\n",
    "    print(\"No eres miembro y NO TIENES ACCESO\")"
   ]
  },
  {
   "cell_type": "code",
   "execution_count": null,
   "id": "e7163981-3594-48f8-aed4-0040962db1df",
   "metadata": {},
   "outputs": [],
   "source": []
  },
  {
   "cell_type": "code",
   "execution_count": null,
   "id": "bb44f44c-803b-47a2-814d-0b20ccf41a73",
   "metadata": {},
   "outputs": [],
   "source": []
  },
  {
   "cell_type": "code",
   "execution_count": null,
   "id": "fecd9d90-94e6-4d7e-bef5-7b60bf85a6ab",
   "metadata": {},
   "outputs": [],
   "source": []
  }
 ],
 "metadata": {
  "kernelspec": {
   "display_name": "Python 3 (ipykernel)",
   "language": "python",
   "name": "python3"
  },
  "language_info": {
   "codemirror_mode": {
    "name": "ipython",
    "version": 3
   },
   "file_extension": ".py",
   "mimetype": "text/x-python",
   "name": "python",
   "nbconvert_exporter": "python",
   "pygments_lexer": "ipython3",
   "version": "3.12.3"
  }
 },
 "nbformat": 4,
 "nbformat_minor": 5
}
